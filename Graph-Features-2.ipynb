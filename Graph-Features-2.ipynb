{
 "cells": [
  {
   "cell_type": "markdown",
   "metadata": {},
   "source": [
    "First Notebook"
   ]
  },
  {
   "cell_type": "code",
   "execution_count": 3,
   "metadata": {},
   "outputs": [],
   "source": [
    "import pandas\n",
    "from matplotlib import pyplot as plt\n",
    "import numpy as np"
   ]
  },
  {
   "cell_type": "code",
   "execution_count": 4,
   "metadata": {},
   "outputs": [],
   "source": [
    "def parseArray(array):\n",
    "    parsedArray = array[1:-1].replace('\\n','').replace(' ','').split(',')\n",
    "    parsedArray = filter(None,parsedArray)\n",
    "    return np.array(list(parsedArray)).astype(float)\n",
    "\n",
    "def filterByDate(date):\n",
    "    return samples.query('expirement_date == %s' % date)\n",
    "\n",
    "def filterByPeaks(filteredSamples):\n",
    "    pandas.options.mode.chained_assignment = None\n",
    "    \n",
    "    # -1 -> error with radial profile\n",
    "    # -2 -> no peaks\n",
    "    # -3 -> error with peaks\n",
    "    # -4 -> many peaks\n",
    "    \n",
    "    size = filteredSamples.shape[0]\n",
    "    \n",
    "    a = filteredSamples.query('peaks == \"-1\"')['peaks'].shape[0]\n",
    "    b = filteredSamples.query('peaks == \"-2\"')['peaks'].shape[0]\n",
    "    c = filteredSamples.query('peaks == \"-3\"')['peaks'].shape[0]\n",
    "    \n",
    "    newSamples = filteredSamples.query('peaks != \"-1\" and peaks != \"-2\" and peaks != \"-3\"')\n",
    "    \n",
    "    newSamples.peaks = newSamples['peaks'].apply(lambda x: parseArray(x)[0])\n",
    "#     .apply(lambda x: \"-4\" if len(x)>1 else x[0])\n",
    "    \n",
    "#     d = newSamples.query('peaks == \"-4\"')['peaks'].shape[0]\n",
    "    \n",
    "#     newSamples = newSamples.query('peaks != \"-4\"')\n",
    "    newSize = newSamples.shape[0]\n",
    "    return (newSamples, size, a, b, c, newSize)\n",
    "#     return (newSamples, size, a, b, c, d, newSize)\n",
    "\n",
    "def plotField(filteredSamples,plot,field1,field2):\n",
    "    plot.scatter(x=filteredSamples[field1],y=filteredSamples[field2])\n",
    "    plot.set_title(field1 + ' by ' + field2)\n",
    "    plot.set_xlabel(field1)\n",
    "    plot.set_ylabel(field2)"
   ]
  },
  {
   "cell_type": "code",
   "execution_count": 6,
   "metadata": {},
   "outputs": [],
   "source": [
    "samples = pandas.read_csv('peak_distances_2.csv')\n",
    "\n",
    "fields = ['time','num_seg_pxls','stack_data_mean','image_intensity_mean','peaks']\n",
    "dates = np.unique(samples['expirement_date'].to_numpy())"
   ]
  },
  {
   "cell_type": "code",
   "execution_count": 7,
   "metadata": {
    "scrolled": true
   },
   "outputs": [],
   "source": [
    "def plotAllForDate(date,col):\n",
    "    fig, plots = plt.subplots(nrows=int(gauss(len(fields)-1)/col),ncols=col)\n",
    "\n",
    "    fig.suptitle('date: %s' % date)\n",
    "    \n",
    "    fig.set_figheight(15*2)\n",
    "    fig.set_figwidth(15*col)\n",
    "    \n",
    "    \n",
    "    filteredSamples = filterByDate(date)\n",
    "    a = filterByPeaks(filteredSamples)\n",
    "    filteredSamples = a[0]\n",
    "    \n",
    "#     print(a[1:])\n",
    "\n",
    "    i = 0\n",
    "    for a in range(len(fields)):\n",
    "        for b in range(a):\n",
    "            plotField(filteredSamples,plots[int(i/col)][i%col],fields[a],fields[b])\n",
    "            i+=1\n",
    "    \n",
    "    plt.tight_layout()\n",
    "    fig.patch.set_facecolor('xkcd:white')\n",
    "    fig.savefig('%s.png' % (directory+'Scatter Data/'+str(date)))"
   ]
  },
  {
   "cell_type": "code",
   "execution_count": 26,
   "metadata": {},
   "outputs": [
    {
     "data": {
      "text/plain": [
       "([<matplotlib.axis.XTick at 0x1e767b34d90>,\n",
       "  <matplotlib.axis.XTick at 0x1e767b34d60>,\n",
       "  <matplotlib.axis.XTick at 0x1e767b34490>,\n",
       "  <matplotlib.axis.XTick at 0x1e76acc6070>,\n",
       "  <matplotlib.axis.XTick at 0x1e76acc66a0>,\n",
       "  <matplotlib.axis.XTick at 0x1e76acc6790>,\n",
       "  <matplotlib.axis.XTick at 0x1e76accc070>,\n",
       "  <matplotlib.axis.XTick at 0x1e76accc730>,\n",
       "  <matplotlib.axis.XTick at 0x1e76accce80>,\n",
       "  <matplotlib.axis.XTick at 0x1e76acd3610>,\n",
       "  <matplotlib.axis.XTick at 0x1e76acd3d60>,\n",
       "  <matplotlib.axis.XTick at 0x1e76acd3a00>,\n",
       "  <matplotlib.axis.XTick at 0x1e76accc9d0>,\n",
       "  <matplotlib.axis.XTick at 0x1e76acda460>,\n",
       "  <matplotlib.axis.XTick at 0x1e76acdab20>,\n",
       "  <matplotlib.axis.XTick at 0x1e76ace12b0>,\n",
       "  <matplotlib.axis.XTick at 0x1e76ace1a00>,\n",
       "  <matplotlib.axis.XTick at 0x1e76ace7190>,\n",
       "  <matplotlib.axis.XTick at 0x1e76ace1af0>,\n",
       "  <matplotlib.axis.XTick at 0x1e76acda760>],\n",
       " [Text(0, 0, ''),\n",
       "  Text(0, 0, ''),\n",
       "  Text(0, 0, ''),\n",
       "  Text(0, 0, ''),\n",
       "  Text(0, 0, ''),\n",
       "  Text(0, 0, ''),\n",
       "  Text(0, 0, ''),\n",
       "  Text(0, 0, ''),\n",
       "  Text(0, 0, ''),\n",
       "  Text(0, 0, ''),\n",
       "  Text(0, 0, ''),\n",
       "  Text(0, 0, ''),\n",
       "  Text(0, 0, ''),\n",
       "  Text(0, 0, ''),\n",
       "  Text(0, 0, ''),\n",
       "  Text(0, 0, ''),\n",
       "  Text(0, 0, ''),\n",
       "  Text(0, 0, ''),\n",
       "  Text(0, 0, ''),\n",
       "  Text(0, 0, '')])"
      ]
     },
     "execution_count": 26,
     "metadata": {},
     "output_type": "execute_result"
    },
    {
     "data": {
      "image/png": "[encoded data removed]",
      "text/plain": [
       "<Figure size 432x288 with 1 Axes>"
      ]
     },
     "metadata": {
      "needs_background": "light"
     },
     "output_type": "display_data"
    },
    {
     "data": {
      "image/png": "[encoded data removed]",
      "text/plain": [
       "<Figure size 640x480 with 1 Axes>"
      ]
     },
     "metadata": {
      "needs_background": "light"
     },
     "output_type": "display_data"
    }
   ],
   "source": [
    "# a = filterByDate(dates[1])\n",
    "b = filterByPeaks(samples)\n",
    "c = b[0].query('num_seg_pxls == 0')['peaks']\n",
    "bins = range(200,400,10)\n",
    "plt.figure(figsize=(8, 6), dpi=80)\n",
    "plt.title('num_seg_pxls == 0')\n",
    "plt.hist(c,bins=bins)\n",
    "plt.xticks(bins)"
   ]
  },
  {
   "cell_type": "code",
   "execution_count": null,
   "metadata": {},
   "outputs": [],
   "source": []
  }
 ],
 "metadata": {
  "kernelspec": {
   "display_name": "Python 3",
   "language": "python",
   "name": "python3"
  },
  "language_info": {
   "codemirror_mode": {
    "name": "ipython",
    "version": 3
   },
   "file_extension": ".py",
   "mimetype": "text/x-python",
   "name": "python",
   "nbconvert_exporter": "python",
   "pygments_lexer": "ipython3",
   "version": "3.9.12"
  },
  "vscode": {
   "interpreter": {
    "hash": "6066e4ca0601b025509926a8dd9e67fccfce94793723965e0ca1262e1100bf7b"
   }
  }
 },
 "nbformat": 4,
 "nbformat_minor": 2
}
